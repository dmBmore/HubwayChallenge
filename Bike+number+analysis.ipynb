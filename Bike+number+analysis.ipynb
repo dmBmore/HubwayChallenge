{
 "cells": [
  {
   "cell_type": "code",
   "execution_count": 24,
   "metadata": {
    "collapsed": true
   },
   "outputs": [],
   "source": [
    "import pandas as pd"
   ]
  },
  {
   "cell_type": "code",
   "execution_count": 25,
   "metadata": {},
   "outputs": [
    {
     "name": "stderr",
     "output_type": "stream",
     "text": [
      "C:\\ProgramData\\Anaconda3\\lib\\site-packages\\IPython\\core\\interactiveshell.py:2698: DtypeWarning: Columns (1,2,3,4,5,6,8,9) have mixed types. Specify dtype option on import or set low_memory=False.\n",
      "  interactivity=interactivity, compiler=compiler, result=result)\n"
     ]
    }
   ],
   "source": [
    "df = pd.read_csv('Z:\\Hubway\\\\output\\\\combinedfile.csv')"
   ]
  },
  {
   "cell_type": "code",
   "execution_count": 23,
   "metadata": {
    "scrolled": true
   },
   "outputs": [
    {
     "data": {
      "text/html": [
       "<div>\n",
       "<style>\n",
       "    .dataframe thead tr:only-child th {\n",
       "        text-align: right;\n",
       "    }\n",
       "\n",
       "    .dataframe thead th {\n",
       "        text-align: left;\n",
       "    }\n",
       "\n",
       "    .dataframe tbody tr th {\n",
       "        vertical-align: top;\n",
       "    }\n",
       "</style>\n",
       "<table border=\"1\" class=\"dataframe\">\n",
       "  <thead>\n",
       "    <tr style=\"text-align: right;\">\n",
       "      <th></th>\n",
       "      <th>Unnamed: 0</th>\n",
       "      <th>Zip code</th>\n",
       "      <th>bikeid</th>\n",
       "      <th>birth year</th>\n",
       "      <th>end station id</th>\n",
       "      <th>end station latitude</th>\n",
       "      <th>end station longitude</th>\n",
       "      <th>end station name</th>\n",
       "      <th>gender</th>\n",
       "      <th>start station id</th>\n",
       "      <th>start station latitude</th>\n",
       "      <th>start station longitude</th>\n",
       "      <th>start station name</th>\n",
       "      <th>starttime</th>\n",
       "      <th>stoptime</th>\n",
       "      <th>tripduration</th>\n",
       "      <th>usertype</th>\n",
       "    </tr>\n",
       "  </thead>\n",
       "  <tbody>\n",
       "    <tr>\n",
       "      <th>6390477</th>\n",
       "      <td>767236</td>\n",
       "      <td>NaN</td>\n",
       "      <td>B00149</td>\n",
       "      <td>NaN</td>\n",
       "      <td>C32008</td>\n",
       "      <td>42.3488</td>\n",
       "      <td>-71.0824</td>\n",
       "      <td>Boylston at Fairfield</td>\n",
       "      <td>NaN</td>\n",
       "      <td>M32011</td>\n",
       "      <td>42.365070</td>\n",
       "      <td>-71.103100</td>\n",
       "      <td>Central Square at Mass Ave / Essex St</td>\n",
       "      <td>7/1/2014 0:06</td>\n",
       "      <td>7/1/2014 0:18</td>\n",
       "      <td>718197</td>\n",
       "      <td>Customer</td>\n",
       "    </tr>\n",
       "    <tr>\n",
       "      <th>6390478</th>\n",
       "      <td>767237</td>\n",
       "      <td>NaN</td>\n",
       "      <td>B00268</td>\n",
       "      <td>NaN</td>\n",
       "      <td>A32012</td>\n",
       "      <td>42.3523</td>\n",
       "      <td>-71.1238</td>\n",
       "      <td>Packard's Corner - Comm. Ave. at Brighton Ave.</td>\n",
       "      <td>NaN</td>\n",
       "      <td>B32018</td>\n",
       "      <td>42.347265</td>\n",
       "      <td>-71.088088</td>\n",
       "      <td>Boylston / Mass Ave</td>\n",
       "      <td>7/1/2014 0:03</td>\n",
       "      <td>7/1/2014 0:18</td>\n",
       "      <td>937588</td>\n",
       "      <td>Customer</td>\n",
       "    </tr>\n",
       "    <tr>\n",
       "      <th>6390479</th>\n",
       "      <td>767238</td>\n",
       "      <td>NaN</td>\n",
       "      <td>B01566</td>\n",
       "      <td>NaN</td>\n",
       "      <td>C32012</td>\n",
       "      <td>42.3307</td>\n",
       "      <td>-71.057</td>\n",
       "      <td>Andrew Station - Dorchester Ave at Humboldt Pl</td>\n",
       "      <td>NaN</td>\n",
       "      <td>B32014</td>\n",
       "      <td>42.348833</td>\n",
       "      <td>-71.041747</td>\n",
       "      <td>Seaport Hotel</td>\n",
       "      <td>7/1/2014 0:03</td>\n",
       "      <td>7/1/2014 0:21</td>\n",
       "      <td>1066870</td>\n",
       "      <td>Customer</td>\n",
       "    </tr>\n",
       "    <tr>\n",
       "      <th>6390480</th>\n",
       "      <td>767239</td>\n",
       "      <td>NaN</td>\n",
       "      <td>B00413</td>\n",
       "      <td>NaN</td>\n",
       "      <td>C32012</td>\n",
       "      <td>42.3307</td>\n",
       "      <td>-71.057</td>\n",
       "      <td>Andrew Station - Dorchester Ave at Humboldt Pl</td>\n",
       "      <td>NaN</td>\n",
       "      <td>B32014</td>\n",
       "      <td>42.348833</td>\n",
       "      <td>-71.041747</td>\n",
       "      <td>Seaport Hotel</td>\n",
       "      <td>7/1/2014 0:02</td>\n",
       "      <td>7/1/2014 0:21</td>\n",
       "      <td>1159926</td>\n",
       "      <td>Customer</td>\n",
       "    </tr>\n",
       "    <tr>\n",
       "      <th>6390481</th>\n",
       "      <td>767240</td>\n",
       "      <td>2171</td>\n",
       "      <td>T01025</td>\n",
       "      <td>NaN</td>\n",
       "      <td>M32037</td>\n",
       "      <td>42.3625</td>\n",
       "      <td>-71.0882</td>\n",
       "      <td>Ames St at Main St</td>\n",
       "      <td>Male</td>\n",
       "      <td>M32002</td>\n",
       "      <td>42.366277</td>\n",
       "      <td>-71.091690</td>\n",
       "      <td>One Kendall Square at Hampshire St / Portland St</td>\n",
       "      <td>7/1/2014 0:00</td>\n",
       "      <td>7/1/2014 0:03</td>\n",
       "      <td>156284</td>\n",
       "      <td>Subscriber</td>\n",
       "    </tr>\n",
       "  </tbody>\n",
       "</table>\n",
       "</div>"
      ],
      "text/plain": [
       "         Unnamed: 0 Zip code  bikeid birth year end station id  \\\n",
       "6390477      767236      NaN  B00149        NaN         C32008   \n",
       "6390478      767237      NaN  B00268        NaN         A32012   \n",
       "6390479      767238      NaN  B01566        NaN         C32012   \n",
       "6390480      767239      NaN  B00413        NaN         C32012   \n",
       "6390481      767240     2171  T01025        NaN         M32037   \n",
       "\n",
       "        end station latitude end station longitude  \\\n",
       "6390477              42.3488              -71.0824   \n",
       "6390478              42.3523              -71.1238   \n",
       "6390479              42.3307               -71.057   \n",
       "6390480              42.3307               -71.057   \n",
       "6390481              42.3625              -71.0882   \n",
       "\n",
       "                                       end station name gender  \\\n",
       "6390477                           Boylston at Fairfield    NaN   \n",
       "6390478  Packard's Corner - Comm. Ave. at Brighton Ave.    NaN   \n",
       "6390479  Andrew Station - Dorchester Ave at Humboldt Pl    NaN   \n",
       "6390480  Andrew Station - Dorchester Ave at Humboldt Pl    NaN   \n",
       "6390481                              Ames St at Main St   Male   \n",
       "\n",
       "        start station id  start station latitude  start station longitude  \\\n",
       "6390477           M32011               42.365070               -71.103100   \n",
       "6390478           B32018               42.347265               -71.088088   \n",
       "6390479           B32014               42.348833               -71.041747   \n",
       "6390480           B32014               42.348833               -71.041747   \n",
       "6390481           M32002               42.366277               -71.091690   \n",
       "\n",
       "                                       start station name      starttime  \\\n",
       "6390477             Central Square at Mass Ave / Essex St  7/1/2014 0:06   \n",
       "6390478                               Boylston / Mass Ave  7/1/2014 0:03   \n",
       "6390479                                     Seaport Hotel  7/1/2014 0:03   \n",
       "6390480                                     Seaport Hotel  7/1/2014 0:02   \n",
       "6390481  One Kendall Square at Hampshire St / Portland St  7/1/2014 0:00   \n",
       "\n",
       "              stoptime  tripduration    usertype  \n",
       "6390477  7/1/2014 0:18        718197    Customer  \n",
       "6390478  7/1/2014 0:18        937588    Customer  \n",
       "6390479  7/1/2014 0:21       1066870    Customer  \n",
       "6390480  7/1/2014 0:21       1159926    Customer  \n",
       "6390481  7/1/2014 0:03        156284  Subscriber  "
      ]
     },
     "execution_count": 23,
     "metadata": {},
     "output_type": "execute_result"
    }
   ],
   "source": [
    "df.tail()"
   ]
  },
  {
   "cell_type": "code",
   "execution_count": 26,
   "metadata": {},
   "outputs": [
    {
     "ename": "TypeError",
     "evalue": "'<' not supported between instances of 'str' and 'int'",
     "output_type": "error",
     "traceback": [
      "\u001b[1;31m---------------------------------------------------------------------------\u001b[0m",
      "\u001b[1;31mTypeError\u001b[0m                                 Traceback (most recent call last)",
      "\u001b[1;32m<ipython-input-26-5c76a09022c8>\u001b[0m in \u001b[0;36m<module>\u001b[1;34m()\u001b[0m\n\u001b[1;32m----> 1\u001b[1;33m \u001b[0mdf\u001b[0m \u001b[1;33m=\u001b[0m \u001b[0mdf\u001b[0m\u001b[1;33m.\u001b[0m\u001b[0msort_values\u001b[0m\u001b[1;33m(\u001b[0m\u001b[1;33m[\u001b[0m\u001b[1;34m'bikeid'\u001b[0m\u001b[1;33m]\u001b[0m\u001b[1;33m)\u001b[0m\u001b[1;33m\u001b[0m\u001b[0m\n\u001b[0m\u001b[0;32m      2\u001b[0m \u001b[0mdf\u001b[0m\u001b[1;33m.\u001b[0m\u001b[0mhead\u001b[0m\u001b[1;33m(\u001b[0m\u001b[1;33m)\u001b[0m\u001b[1;33m\u001b[0m\u001b[0m\n",
      "\u001b[1;32mC:\\ProgramData\\Anaconda3\\lib\\site-packages\\pandas\\core\\frame.py\u001b[0m in \u001b[0;36msort_values\u001b[1;34m(self, by, axis, ascending, inplace, kind, na_position)\u001b[0m\n\u001b[0;32m   3199\u001b[0m \u001b[1;33m\u001b[0m\u001b[0m\n\u001b[0;32m   3200\u001b[0m             indexer = nargsort(k, kind=kind, ascending=ascending,\n\u001b[1;32m-> 3201\u001b[1;33m                                na_position=na_position)\n\u001b[0m\u001b[0;32m   3202\u001b[0m \u001b[1;33m\u001b[0m\u001b[0m\n\u001b[0;32m   3203\u001b[0m         new_data = self._data.take(indexer,\n",
      "\u001b[1;32mC:\\ProgramData\\Anaconda3\\lib\\site-packages\\pandas\\core\\sorting.py\u001b[0m in \u001b[0;36mnargsort\u001b[1;34m(items, kind, ascending, na_position)\u001b[0m\n\u001b[0;32m    245\u001b[0m         \u001b[0mnon_nans\u001b[0m \u001b[1;33m=\u001b[0m \u001b[0mnon_nans\u001b[0m\u001b[1;33m[\u001b[0m\u001b[1;33m:\u001b[0m\u001b[1;33m:\u001b[0m\u001b[1;33m-\u001b[0m\u001b[1;36m1\u001b[0m\u001b[1;33m]\u001b[0m\u001b[1;33m\u001b[0m\u001b[0m\n\u001b[0;32m    246\u001b[0m         \u001b[0mnon_nan_idx\u001b[0m \u001b[1;33m=\u001b[0m \u001b[0mnon_nan_idx\u001b[0m\u001b[1;33m[\u001b[0m\u001b[1;33m:\u001b[0m\u001b[1;33m:\u001b[0m\u001b[1;33m-\u001b[0m\u001b[1;36m1\u001b[0m\u001b[1;33m]\u001b[0m\u001b[1;33m\u001b[0m\u001b[0m\n\u001b[1;32m--> 247\u001b[1;33m     \u001b[0mindexer\u001b[0m \u001b[1;33m=\u001b[0m \u001b[0mnon_nan_idx\u001b[0m\u001b[1;33m[\u001b[0m\u001b[0mnon_nans\u001b[0m\u001b[1;33m.\u001b[0m\u001b[0margsort\u001b[0m\u001b[1;33m(\u001b[0m\u001b[0mkind\u001b[0m\u001b[1;33m=\u001b[0m\u001b[0mkind\u001b[0m\u001b[1;33m)\u001b[0m\u001b[1;33m]\u001b[0m\u001b[1;33m\u001b[0m\u001b[0m\n\u001b[0m\u001b[0;32m    248\u001b[0m     \u001b[1;32mif\u001b[0m \u001b[1;32mnot\u001b[0m \u001b[0mascending\u001b[0m\u001b[1;33m:\u001b[0m\u001b[1;33m\u001b[0m\u001b[0m\n\u001b[0;32m    249\u001b[0m         \u001b[0mindexer\u001b[0m \u001b[1;33m=\u001b[0m \u001b[0mindexer\u001b[0m\u001b[1;33m[\u001b[0m\u001b[1;33m:\u001b[0m\u001b[1;33m:\u001b[0m\u001b[1;33m-\u001b[0m\u001b[1;36m1\u001b[0m\u001b[1;33m]\u001b[0m\u001b[1;33m\u001b[0m\u001b[0m\n",
      "\u001b[1;31mTypeError\u001b[0m: '<' not supported between instances of 'str' and 'int'"
     ]
    }
   ],
   "source": [
    "df = df.sort_values(['bikeid'])\n",
    "df.head()"
   ]
  },
  {
   "cell_type": "code",
   "execution_count": 6,
   "metadata": {},
   "outputs": [],
   "source": [
    "id = df.bikeid.unique()"
   ]
  },
  {
   "cell_type": "code",
   "execution_count": 12,
   "metadata": {},
   "outputs": [],
   "source": [
    "#Create a dataframe of summary data\n",
    "dfbike = pd.DataFrame([])\n",
    "temp = df[df.bikeid==1]\n"
   ]
  },
  {
   "cell_type": "code",
   "execution_count": 15,
   "metadata": {},
   "outputs": [
    {
     "name": "stdout",
     "output_type": "stream",
     "text": [
      "231   231\n"
     ]
    }
   ],
   "source": [
    "x = temp['start station latitude'].nunique()\n",
    "y = temp['start station longitude'].nunique()\n",
    "print(x,' ',y)"
   ]
  },
  {
   "cell_type": "code",
   "execution_count": 16,
   "metadata": {},
   "outputs": [
    {
     "data": {
      "text/plain": [
       "258"
      ]
     },
     "execution_count": 16,
     "metadata": {},
     "output_type": "execute_result"
    }
   ],
   "source": [
    "temp['start station name'].nunique()\n"
   ]
  },
  {
   "cell_type": "code",
   "execution_count": 18,
   "metadata": {
    "collapsed": true
   },
   "outputs": [],
   "source": [
    "x = pd.Series([1,2,3], index=['one', 'two', 'three'])\n",
    "y = pd.Series(['foo', 'bar', 'baz'], index=[1,2,3])\n"
   ]
  },
  {
   "cell_type": "code",
   "execution_count": null,
   "metadata": {
    "collapsed": true
   },
   "outputs": [],
   "source": []
  }
 ],
 "metadata": {
  "kernelspec": {
   "display_name": "Python 3",
   "language": "python",
   "name": "python3"
  },
  "language_info": {
   "codemirror_mode": {
    "name": "ipython",
    "version": 3
   },
   "file_extension": ".py",
   "mimetype": "text/x-python",
   "name": "python",
   "nbconvert_exporter": "python",
   "pygments_lexer": "ipython3",
   "version": "3.6.3"
  }
 },
 "nbformat": 4,
 "nbformat_minor": 2
}
